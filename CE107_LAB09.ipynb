{
  "cells": [
    {
      "cell_type": "markdown",
      "metadata": {
        "id": "Z71c6WZK9_RU"
      },
      "source": [
        "#K - MEANS CLUSTER\n",
        "  "
      ]
    },
    {
      "cell_type": "code",
      "execution_count": 118,
      "metadata": {
        "id": "L_sZPMOP_IWd"
      },
      "outputs": [],
      "source": [
        "# Imports\n",
        "from sklearn.datasets import make_blobs\n",
        "X, Y = make_blobs(n_samples=100, centers=3, n_features=2,cluster_std=0.2, random_state=114)\n"
      ]
    },
    {
      "cell_type": "code",
      "source": [
        "from sklearn.model_selection import train_test_split\n",
        "X_train, X_test, y_train, y_test = train_test_split(X, Y, test_size=0.33, random_state=114)"
      ],
      "metadata": {
        "id": "8T45V43oY_Zj"
      },
      "execution_count": 119,
      "outputs": []
    },
    {
      "cell_type": "code",
      "execution_count": 120,
      "metadata": {
        "id": "Ccgj_7ef-Iym"
      },
      "outputs": [],
      "source": [
        "import matplotlib.pyplot as plt\n",
        "%matplotlib inline"
      ]
    },
    {
      "cell_type": "code",
      "execution_count": 121,
      "metadata": {
        "id": "Wd5ii6_9-TdV",
        "colab": {
          "base_uri": "https://localhost:8080/"
        },
        "outputId": "f23d0178-18e4-4224-c482-1455b65e4651"
      },
      "outputs": [
        {
          "output_type": "stream",
          "name": "stderr",
          "text": [
            "/usr/local/lib/python3.9/dist-packages/sklearn/cluster/_kmeans.py:870: FutureWarning: The default value of `n_init` will change from 10 to 'auto' in 1.4. Set the value of `n_init` explicitly to suppress the warning\n",
            "  warnings.warn(\n"
          ]
        }
      ],
      "source": [
        "# Using scikit-learn to perform K-Means clustering\n",
        "from sklearn.cluster import KMeans\n",
        "# Specify the number of clusters (3) and fit the data X\n",
        "kmeans = KMeans(n_clusters=3, random_state=0).fit(X_train)"
      ]
    },
    {
      "cell_type": "code",
      "execution_count": 122,
      "metadata": {
        "colab": {
          "base_uri": "https://localhost:8080/"
        },
        "id": "OoXAF7LQ-l2V",
        "outputId": "eda17d60-d072-43e1-fec2-b4d45a1b0b40"
      },
      "outputs": [
        {
          "output_type": "stream",
          "name": "stdout",
          "text": [
            "Cluster Centriods are\n",
            " [[ 8.49023556 -0.30169725]\n",
            " [-7.01790177  7.38216989]\n",
            " [ 5.3521352  -2.75135806]]\n"
          ]
        }
      ],
      "source": [
        "# Get the cluster centroids\n",
        "print(\"Cluster Centriods are\\n\",kmeans.cluster_centers_)"
      ]
    },
    {
      "cell_type": "code",
      "execution_count": 123,
      "metadata": {
        "colab": {
          "base_uri": "https://localhost:8080/"
        },
        "id": "Of2Clc2y_i8O",
        "outputId": "7010aa71-33a1-4a91-9f74-593d25fec29a"
      },
      "outputs": [
        {
          "output_type": "stream",
          "name": "stdout",
          "text": [
            "Cluster Labels are:\n",
            " [2 2 2 1 2 1 0 0 0 1 0 2 0 1 2 1 1 1 0 2 2 1 2 2 1 0 1 1 1 2 0 1 1 0 0 2 1\n",
            " 0 1 0 0 1 1 2 0 0 0 1 1 2 1 1 0 2 1 0 0 0 1 2 2 1 2 1 2 2 2]\n"
          ]
        }
      ],
      "source": [
        "# Get the cluster labels\n",
        "# gives cluster number which is it assigned to\n",
        "print(\"Cluster Labels are:\\n\",kmeans.labels_)"
      ]
    },
    {
      "cell_type": "code",
      "execution_count": 124,
      "metadata": {
        "colab": {
          "base_uri": "https://localhost:8080/",
          "height": 265
        },
        "id": "z81Olf8z_v0F",
        "outputId": "d5862140-7415-49f9-9349-343ac2add175"
      },
      "outputs": [
        {
          "output_type": "display_data",
          "data": {
            "text/plain": [
              "<Figure size 432x288 with 1 Axes>"
            ],
            "image/png": "[encoded data removed]"
          },
          "metadata": {
            "needs_background": "light"
          }
        }
      ],
      "source": [
        "# Plotting the cluster centers and the data points on a 2D plane\n",
        "import matplotlib.pyplot as plt\n",
        "# fig, ax = plt.subplots()\n",
        "plt.scatter(X[:,0],X[:,1],s=20)\n",
        "plt.scatter(kmeans.cluster_centers_[:,0],kmeans.cluster_centers_[:,1],c='red',s=20)\n",
        "plt.show()"
      ]
    },
    {
      "cell_type": "code",
      "execution_count": 125,
      "metadata": {
        "colab": {
          "base_uri": "https://localhost:8080/"
        },
        "id": "ULTtKUprBDON",
        "outputId": "b6a3dd3b-7348-4e20-ea30-0cbb8599464e"
      },
      "outputs": [
        {
          "output_type": "stream",
          "name": "stdout",
          "text": [
            "silhouette score is :-\n",
            " 0.9273115077920633\n"
          ]
        }
      ],
      "source": [
        "# Calculate silhouette_score\n",
        "from sklearn.metrics import silhouette_score\n",
        "print(\"silhouette score is :-\\n\",silhouette_score(X,Y))"
      ]
    },
    {
      "cell_type": "code",
      "source": [
        "y_pred = kmeans.predict(X_test)\n",
        "score = accuracy_score(y_test,y_pred)\n",
        "print('Accuracy is: %.3f' %score)"
      ],
      "metadata": {
        "colab": {
          "base_uri": "https://localhost:8080/"
        },
        "id": "xsnllBPSZWmB",
        "outputId": "3ed0e5a0-9f69-436f-fd89-4472f01e85dc"
      },
      "execution_count": 126,
      "outputs": [
        {
          "output_type": "stream",
          "name": "stdout",
          "text": [
            "Accuracy is: 0.364\n"
          ]
        }
      ]
    },
    {
      "cell_type": "code",
      "source": [
        "from sklearn.metrics import precision_score\n",
        "precision = precision_score(y_test, y_pred,average='micro')\n",
        "print('Precision: %.3f' % precision)"
      ],
      "metadata": {
        "colab": {
          "base_uri": "https://localhost:8080/"
        },
        "id": "C0rowPjtZtqX",
        "outputId": "2497d5ec-b98a-4d29-bd15-2bd9bc3e30c2"
      },
      "execution_count": 127,
      "outputs": [
        {
          "output_type": "stream",
          "name": "stdout",
          "text": [
            "Precision: 0.364\n"
          ]
        }
      ]
    },
    {
      "cell_type": "code",
      "source": [
        "from sklearn.metrics import recall_score\n",
        "recall = recall_score(y_test, y_pred,average='micro')\n",
        "print('Recall: %.3f' % recall)"
      ],
      "metadata": {
        "colab": {
          "base_uri": "https://localhost:8080/"
        },
        "id": "O13nng79ZxGZ",
        "outputId": "06ced33a-0a31-42f9-fd66-21af22e09a2d"
      },
      "execution_count": 128,
      "outputs": [
        {
          "output_type": "stream",
          "name": "stdout",
          "text": [
            "Recall: 0.364\n"
          ]
        }
      ]
    },
    {
      "cell_type": "code",
      "execution_count": 129,
      "metadata": {
        "colab": {
          "base_uri": "https://localhost:8080/",
          "height": 661
        },
        "id": "ypAtB5CtDdNm",
        "outputId": "f03a1a12-e8f9-45db-8186-7d2dfd0e25d9"
      },
      "outputs": [
        {
          "output_type": "stream",
          "name": "stderr",
          "text": [
            "/usr/local/lib/python3.9/dist-packages/sklearn/cluster/_kmeans.py:870: FutureWarning: The default value of `n_init` will change from 10 to 'auto' in 1.4. Set the value of `n_init` explicitly to suppress the warning\n",
            "  warnings.warn(\n",
            "/usr/local/lib/python3.9/dist-packages/sklearn/cluster/_kmeans.py:870: FutureWarning: The default value of `n_init` will change from 10 to 'auto' in 1.4. Set the value of `n_init` explicitly to suppress the warning\n",
            "  warnings.warn(\n",
            "/usr/local/lib/python3.9/dist-packages/sklearn/cluster/_kmeans.py:870: FutureWarning: The default value of `n_init` will change from 10 to 'auto' in 1.4. Set the value of `n_init` explicitly to suppress the warning\n",
            "  warnings.warn(\n",
            "/usr/local/lib/python3.9/dist-packages/sklearn/cluster/_kmeans.py:870: FutureWarning: The default value of `n_init` will change from 10 to 'auto' in 1.4. Set the value of `n_init` explicitly to suppress the warning\n",
            "  warnings.warn(\n",
            "/usr/local/lib/python3.9/dist-packages/sklearn/cluster/_kmeans.py:870: FutureWarning: The default value of `n_init` will change from 10 to 'auto' in 1.4. Set the value of `n_init` explicitly to suppress the warning\n",
            "  warnings.warn(\n",
            "/usr/local/lib/python3.9/dist-packages/sklearn/cluster/_kmeans.py:870: FutureWarning: The default value of `n_init` will change from 10 to 'auto' in 1.4. Set the value of `n_init` explicitly to suppress the warning\n",
            "  warnings.warn(\n",
            "/usr/local/lib/python3.9/dist-packages/sklearn/cluster/_kmeans.py:870: FutureWarning: The default value of `n_init` will change from 10 to 'auto' in 1.4. Set the value of `n_init` explicitly to suppress the warning\n",
            "  warnings.warn(\n",
            "/usr/local/lib/python3.9/dist-packages/sklearn/cluster/_kmeans.py:870: FutureWarning: The default value of `n_init` will change from 10 to 'auto' in 1.4. Set the value of `n_init` explicitly to suppress the warning\n",
            "  warnings.warn(\n",
            "/usr/local/lib/python3.9/dist-packages/sklearn/cluster/_kmeans.py:870: FutureWarning: The default value of `n_init` will change from 10 to 'auto' in 1.4. Set the value of `n_init` explicitly to suppress the warning\n",
            "  warnings.warn(\n"
          ]
        },
        {
          "output_type": "display_data",
          "data": {
            "text/plain": [
              "<Figure size 432x288 with 2 Axes>"
            ],
            "image/png": "[encoded data removed]"
          },
          "metadata": {}
        },
        {
          "output_type": "execute_result",
          "data": {
            "text/plain": [
              "<AxesSubplot:title={'center':'Distortion Score Elbow for KMeans Clustering'}, xlabel='k', ylabel='distortion score'>"
            ]
          },
          "metadata": {},
          "execution_count": 129
        }
      ],
      "source": [
        "# Import the KElbowVisualizer method\n",
        "from yellowbrick.cluster import KElbowVisualizer\n",
        "\n",
        "# Instantiate a scikit-learn K-Means model\n",
        "X_temp, y_temp = make_blobs(n_samples=1000, centers=3, n_features=2,cluster_std=0.2, random_state=0)\n",
        "\n",
        "# Instantiate the KElbowVisualizer with the number of clusters and the metric\n",
        "model = KMeans()\n",
        "# Fit the data and visualize\n",
        "visualizer = KElbowVisualizer(model)\n",
        "visualizer.fit(X)        # Fit the data to the visualizer\n",
        "visualizer.show()  "
      ]
    },
    {
      "cell_type": "code",
      "execution_count": 130,
      "metadata": {
        "colab": {
          "base_uri": "https://localhost:8080/",
          "height": 372
        },
        "id": "SRVESX3LEAuo",
        "outputId": "e35da8b9-f96e-416d-c341-9aa473a56291"
      },
      "outputs": [
        {
          "output_type": "stream",
          "name": "stderr",
          "text": [
            "/usr/local/lib/python3.9/dist-packages/sklearn/cluster/_kmeans.py:870: FutureWarning: The default value of `n_init` will change from 10 to 'auto' in 1.4. Set the value of `n_init` explicitly to suppress the warning\n",
            "  warnings.warn(\n",
            "/usr/local/lib/python3.9/dist-packages/sklearn/cluster/_kmeans.py:1362: RuntimeWarning: Explicit initial center position passed: performing only one init in KMeans instead of n_init=10.\n",
            "  super()._check_params_vs_input(X, default_n_init=10)\n"
          ]
        },
        {
          "output_type": "execute_result",
          "data": {
            "text/plain": [
              "array([1], dtype=int32)"
            ]
          },
          "metadata": {},
          "execution_count": 130
        },
        {
          "output_type": "display_data",
          "data": {
            "text/plain": [
              "<Figure size 432x288 with 1 Axes>"
            ],
            "image/png": "[encoded data removed]"
          },
          "metadata": {
            "needs_background": "light"
          }
        }
      ],
      "source": [
        "import matplotlib.pyplot as plt\n",
        "import numpy as np\n",
        "from sklearn.cluster import KMeans\n",
        "#x = np.array([5,7,8,7,2,17,2,9,4,11,12,9,6])\n",
        "X1 = np.array([[2,2],[3,4],[6,7],[5,5],[3,3],[12,13]])\n",
        "#X1.shape()\n",
        "X2 = np.array([2,3,4])\n",
        "plt.scatter(X1[:,0], X1[:,1])\n",
        "centroid = np.array([[2,2],[3,4],[6,7]])\n",
        "kmeans = KMeans(n_clusters=3, init=centroid).fit(X1)\n",
        "kmeans.cluster_centers_\n",
        "kmeans.labels_\n",
        "#print(\"Number of iterations \" , kmeans.n_iter_)\n",
        "kmeans.predict([[8,8]])"
      ]
    },
    {
      "cell_type": "markdown",
      "metadata": {
        "id": "u0m9EzSGFd6l"
      },
      "source": [
        "#Hand Written Digit Recognition"
      ]
    },
    {
      "cell_type": "code",
      "execution_count": 131,
      "metadata": {
        "id": "SOmGaxaTE3MF"
      },
      "outputs": [],
      "source": [
        "import numpy as np # linear algebra\n",
        "import pandas as pd # data processing, CSV file I/O (e.g. pd.read_csv)\n",
        "from sklearn.cluster import KMeans\n",
        "from sklearn.datasets import load_digits\n",
        "#digits dataset from scikit learn consists of 8x8 pixel images of digits\n",
        "#Data plotting and visualization libraries\n",
        "import matplotlib.pyplot as plt\n",
        "import seaborn as sns\n",
        "from scipy.stats import mode\n",
        "from sklearn.metrics import accuracy_score, confusion_matrix"
      ]
    },
    {
      "cell_type": "code",
      "execution_count": 132,
      "metadata": {
        "id": "MovKj6eOFh31"
      },
      "outputs": [],
      "source": [
        "digits = load_digits() #load the dataset in digits"
      ]
    },
    {
      "cell_type": "code",
      "execution_count": 133,
      "metadata": {
        "colab": {
          "base_uri": "https://localhost:8080/"
        },
        "id": "8NaHs-hpFj11",
        "outputId": "f0387085-911f-46bd-8af7-0a877dd3b40b"
      },
      "outputs": [
        {
          "output_type": "stream",
          "name": "stdout",
          "text": [
            "dict_keys(['data', 'target', 'frame', 'feature_names', 'target_names', 'images', 'DESCR'])\n",
            "(1797, 64)\n"
          ]
        }
      ],
      "source": [
        " #Dataset loaded is a dictionary\n",
        "print(digits.keys())\n",
        "# data : flattened arrays/tensors used for clustering\n",
        "# target : label associated with flattened array\n",
        "X = digits.data\n",
        "Y = digits.target\n",
        "print(X.shape)"
      ]
    },
    {
      "cell_type": "code",
      "source": [
        "from sklearn.model_selection import train_test_split\n",
        "X_train, X_test, y_train, y_test = train_test_split(X, Y, test_size=0.33, random_state=114)"
      ],
      "metadata": {
        "id": "qi9euwypaxyw"
      },
      "execution_count": 134,
      "outputs": []
    },
    {
      "cell_type": "code",
      "execution_count": 135,
      "metadata": {
        "colab": {
          "base_uri": "https://localhost:8080/"
        },
        "id": "yV8LKds7GaAB",
        "outputId": "8d5ad6e4-302e-4e90-f74d-25977bcbf293"
      },
      "outputs": [
        {
          "output_type": "execute_result",
          "data": {
            "text/plain": [
              "array([[ 0.,  0.,  5., 13.,  9.,  1.,  0.,  0.,  0.,  0., 13., 15., 10.,\n",
              "        15.,  5.,  0.,  0.,  3., 15.,  2.,  0., 11.,  8.,  0.,  0.,  4.,\n",
              "        12.,  0.,  0.,  8.,  8.,  0.,  0.,  5.,  8.,  0.,  0.,  9.,  8.,\n",
              "         0.,  0.,  4., 11.,  0.,  1., 12.,  7.,  0.,  0.,  2., 14.,  5.,\n",
              "        10., 12.,  0.,  0.,  0.,  0.,  6., 13., 10.,  0.,  0.,  0.],\n",
              "       [ 0.,  0.,  0., 12., 13.,  5.,  0.,  0.,  0.,  0.,  0., 11., 16.,\n",
              "         9.,  0.,  0.,  0.,  0.,  3., 15., 16.,  6.,  0.,  0.,  0.,  7.,\n",
              "        15., 16., 16.,  2.,  0.,  0.,  0.,  0.,  1., 16., 16.,  3.,  0.,\n",
              "         0.,  0.,  0.,  1., 16., 16.,  6.,  0.,  0.,  0.,  0.,  1., 16.,\n",
              "        16.,  6.,  0.,  0.,  0.,  0.,  0., 11., 16., 10.,  0.,  0.],\n",
              "       [ 0.,  0.,  0.,  4., 15., 12.,  0.,  0.,  0.,  0.,  3., 16., 15.,\n",
              "        14.,  0.,  0.,  0.,  0.,  8., 13.,  8., 16.,  0.,  0.,  0.,  0.,\n",
              "         1.,  6., 15., 11.,  0.,  0.,  0.,  1.,  8., 13., 15.,  1.,  0.,\n",
              "         0.,  0.,  9., 16., 16.,  5.,  0.,  0.,  0.,  0.,  3., 13., 16.,\n",
              "        16., 11.,  5.,  0.,  0.,  0.,  0.,  3., 11., 16.,  9.,  0.]])"
            ]
          },
          "metadata": {},
          "execution_count": 135
        }
      ],
      "source": [
        "#flattened data for 3 images of the dataset\n",
        "digits.data[0:3]"
      ]
    },
    {
      "cell_type": "code",
      "execution_count": 136,
      "metadata": {
        "colab": {
          "base_uri": "https://localhost:8080/"
        },
        "id": "2uvM1WCqG2uL",
        "outputId": "4f98e11d-d552-40c8-97fc-ade90c82bc17"
      },
      "outputs": [
        {
          "output_type": "stream",
          "name": "stderr",
          "text": [
            "/usr/local/lib/python3.9/dist-packages/sklearn/cluster/_kmeans.py:870: FutureWarning: The default value of `n_init` will change from 10 to 'auto' in 1.4. Set the value of `n_init` explicitly to suppress the warning\n",
            "  warnings.warn(\n"
          ]
        }
      ],
      "source": [
        "#run KMeans clustering on digits.data for 1797 records and 64 features\n",
        "k_means = KMeans(n_clusters=10, random_state=114).fit(X_test)"
      ]
    },
    {
      "cell_type": "code",
      "execution_count": 137,
      "metadata": {
        "colab": {
          "base_uri": "https://localhost:8080/",
          "height": 194
        },
        "id": "hKCgZOeNHeCF",
        "outputId": "a566b4f5-c892-43cb-88d0-767ddb2f6284"
      },
      "outputs": [
        {
          "output_type": "display_data",
          "data": {
            "text/plain": [
              "<Figure size 576x216 with 10 Axes>"
            ],
            "image/png": "[encoded data removed]"
          },
          "metadata": {}
        }
      ],
      "source": [
        "#Create a figure and a set of subplots( 2 rows and 5 columns)\n",
        "fig, ax = plt.subplots(2, 5, figsize = (8,3)) \n",
        "centers = k_means.cluster_centers_.reshape(10,8,8)\n",
        "#flattened image can't be viewed, re-transform/reshape/inverse transform it to original form to view matrix shaped image\n",
        "#reshape 10 rows of clusters (k_means.cluster_centers_ = 10,64) and 64 to 8 * 8 matrix\n",
        "#ax.flat:flattening the image &␣ plotting relevant centers\n",
        "for axi, center in zip(ax.flat, centers): \n",
        "  axi.set(xticks = [], yticks = [])\n",
        "  axi.imshow(center, interpolation='nearest',cmap = plt.cm.binary)"
      ]
    },
    {
      "cell_type": "code",
      "execution_count": 138,
      "metadata": {
        "colab": {
          "base_uri": "https://localhost:8080/"
        },
        "id": "V21xiksLH-kF",
        "outputId": "42c90ba4-13ea-4a93-de1c-3e02195fbdba"
      },
      "outputs": [
        {
          "output_type": "stream",
          "name": "stdout",
          "text": [
            "The labels are : [0 0 0 ... 0 0 0]\n",
            "\n",
            "The size of labels is : (1797,)\n",
            "The mask values are : \n",
            "[ True False False ... False False False]\n",
            "[False  True False ... False False False]\n",
            "[False False  True ... False False False]\n",
            "[False False False ... False False False]\n",
            "[False False False ... False False False]\n",
            "[False False False ... False False False]\n",
            "[False False False ... False False False]\n",
            "[False False False ... False False False]\n",
            "[False False False ...  True False  True]\n",
            "[False False False ... False  True False]\n"
          ]
        },
        {
          "output_type": "stream",
          "name": "stderr",
          "text": [
            "<ipython-input-138-a788e286b641>:9: FutureWarning: Unlike other reduction functions (e.g. `skew`, `kurtosis`), the default behavior of `mode` typically preserves the axis it acts along. In SciPy 1.11.0, this behavior will change: the default value of `keepdims` will become False, the `axis` over which the statistic is taken will be eliminated, and the value None will no longer be accepted. Set `keepdims` to True or False to avoid this warning.\n",
            "  labels[mask] = mode(digits.target[mask])[0]\n"
          ]
        }
      ],
      "source": [
        "labels = np.zeros_like(Y) \n",
        "print(f\"The labels are : {labels}\")\n",
        "print(f\"\\nThe size of labels is : {labels.shape}\")\n",
        "print(\"The mask values are : \")\n",
        "for i in range(10):\n",
        "  mask = (Y == i)\n",
        "#if a specific digit belongs to/equivalent a specific cluster then its True else False\n",
        "  print(mask)\n",
        "  labels[mask] = mode(digits.target[mask])[0]"
      ]
    },
    {
      "cell_type": "code",
      "execution_count": 139,
      "metadata": {
        "colab": {
          "base_uri": "https://localhost:8080/"
        },
        "id": "3RaC12qcJM38",
        "outputId": "68b24151-84e8-4347-fb06-43c036b05ebf"
      },
      "outputs": [
        {
          "output_type": "stream",
          "name": "stdout",
          "text": [
            "silhouette score is :-\n",
            " 0.1629432052257522\n"
          ]
        }
      ],
      "source": [
        "# Calculate silhouette_score\n",
        "from sklearn.metrics import silhouette_score\n",
        "print(\"silhouette score is :-\\n\",silhouette_score(X,Y))"
      ]
    },
    {
      "cell_type": "code",
      "execution_count": 140,
      "metadata": {
        "colab": {
          "base_uri": "https://localhost:8080/"
        },
        "id": "f1vjB0GwKtW9",
        "outputId": "599c1f5c-afaf-45df-d606-33cac5f0ca2b"
      },
      "outputs": [
        {
          "output_type": "stream",
          "name": "stdout",
          "text": [
            "Accuracy is: 0.022\n"
          ]
        }
      ],
      "source": [
        "y_pred = k_means.predict(X_test)\n",
        "score = accuracy_score(y_test,y_pred)\n",
        "print('Accuracy is: %.3f' %score)"
      ]
    },
    {
      "cell_type": "code",
      "source": [
        "from sklearn.metrics import precision_score\n",
        "precision = precision_score(y_test, y_pred,average='micro')\n",
        "print('Precision: %.3f' % precision)"
      ],
      "metadata": {
        "colab": {
          "base_uri": "https://localhost:8080/"
        },
        "id": "96lsRNSMbFRr",
        "outputId": "4dd131a3-83c4-4a4b-f762-ec89b87a91c4"
      },
      "execution_count": 141,
      "outputs": [
        {
          "output_type": "stream",
          "name": "stdout",
          "text": [
            "Precision: 0.022\n"
          ]
        }
      ]
    },
    {
      "cell_type": "code",
      "source": [
        "from sklearn.metrics import recall_score\n",
        "recall = recall_score(y_test, y_pred,average='micro')\n",
        "print('Recall: %.3f' % recall)"
      ],
      "metadata": {
        "colab": {
          "base_uri": "https://localhost:8080/"
        },
        "id": "8f7PwY3rX4B8",
        "outputId": "425645d9-823a-49ae-b0f9-6e64760b4347"
      },
      "execution_count": 142,
      "outputs": [
        {
          "output_type": "stream",
          "name": "stdout",
          "text": [
            "Recall: 0.022\n"
          ]
        }
      ]
    },
    {
      "cell_type": "markdown",
      "source": [
        "#EXCERCISE\n",
        "  "
      ],
      "metadata": {
        "id": "6uevYgN3baOk"
      }
    },
    {
      "cell_type": "code",
      "source": [
        "import random \n",
        "X = [[2,10],[2,5],[8,4],[5,8],[7,5],[6,4],[1,2],[4,9]]\n",
        "C1 = X[1]\n",
        "C2 = X[4]\n",
        "C3 = X[7]\n",
        "Y = []\n",
        "for i in range(0,8):\n",
        "  n = random.randint(0,2)\n",
        "  Y.append(n)\n",
        "print(Y)\n"
      ],
      "metadata": {
        "colab": {
          "base_uri": "https://localhost:8080/"
        },
        "id": "D3NtwGIFbH9B",
        "outputId": "4544ed79-1172-46c2-882c-918781240656"
      },
      "execution_count": 147,
      "outputs": [
        {
          "output_type": "stream",
          "name": "stdout",
          "text": [
            "[0, 0, 1, 1, 2, 2, 0, 1]\n"
          ]
        }
      ]
    },
    {
      "cell_type": "code",
      "source": [
        "def distance(c,k,X):\n",
        "  a = c[0] - X[k][0]\n",
        "  b = c[1] - X[k][1]\n",
        "  return (a*a + b*b)"
      ],
      "metadata": {
        "id": "2XSXwcseev5B"
      },
      "execution_count": 148,
      "outputs": []
    },
    {
      "cell_type": "code",
      "source": [
        "for i in range(0,3): # epochs\n",
        "  new_c1 = [0,0]\n",
        "  new_c2 = [0,0]\n",
        "  new_c3 = [0,0]\n",
        "  for k in range(0,8):\n",
        "     a = distance(C1,k,X)\n",
        "     b = distance(C2,k,X)\n",
        "     c = distance(C3,k,X)\n",
        "     x = min(a,min(b,c))\n",
        "     if(x==a):\n",
        "      Y[i] = 0\n",
        "     if(x==b):\n",
        "      Y[i] = 1\n",
        "     if(x==c):\n",
        "      Y[i] = 2\n",
        "     if(Y[i] == 0):\n",
        "       new_c1[0] += X[k][0]\n",
        "       new_c1[1] += X[k][1]\n",
        "     if(Y[i] == 1):\n",
        "       new_c2[0] += X[k][0]\n",
        "       new_c2[0] += X[k][0]\n",
        "     if(Y[i] == 2):\n",
        "       new_c3[0] += X[k][0]\n",
        "       new_c3[0] += X[k][0]\n",
        "  new_c1[0] /= Y.count(0)\n",
        "  new_c1[1] /= Y.count(0)\n",
        "  new_c2[0] /= Y.count(0)\n",
        "  new_c2[1] /= Y.count(0)\n",
        "  new_c3[0] /= Y.count(0)\n",
        "  new_c3[1] /= Y.count(0)\n",
        "  C1 = new_c1\n",
        "  C2 = new_c2\n",
        "  C3 = new_c3\n",
        "  print(\"CLuster head after \",i,\"Epoch\")\n",
        "  print(\"Cluster Head1\" , new_c1)\n",
        "  print(\"Cluster Head2\" , new_c2)\n",
        "  print(\"Cluster Head3\" , new_c3)\n",
        "  print(\"Point i belong to ith cluster array\")\n",
        "  print(Y)\n",
        "  \n",
        "  "
      ],
      "metadata": {
        "colab": {
          "base_uri": "https://localhost:8080/"
        },
        "id": "hs5FWtwKcVad",
        "outputId": "343880c3-26c1-4f9c-9547-1fd14303f451"
      },
      "execution_count": 149,
      "outputs": [
        {
          "output_type": "stream",
          "name": "stdout",
          "text": [
            "CLuster head after  0 Epoch\n",
            "Cluster Head1 [1.5, 3.5]\n",
            "Cluster Head2 [21.0, 0.0]\n",
            "Cluster Head3 [11.0, 0.0]\n",
            "Point i belong to ith cluster array\n",
            "[2, 0, 1, 1, 2, 2, 0, 1]\n",
            "CLuster head after  1 Epoch\n",
            "Cluster Head1 [13.5, 21.5]\n",
            "Cluster Head2 [0.0, 0.0]\n",
            "Cluster Head3 [8.0, 0.0]\n",
            "Point i belong to ith cluster array\n",
            "[2, 0, 1, 1, 2, 2, 0, 1]\n",
            "CLuster head after  2 Epoch\n",
            "Cluster Head1 [0.0, 0.0]\n",
            "Cluster Head2 [5.0, 0.0]\n",
            "Cluster Head3 [30.0, 0.0]\n",
            "Point i belong to ith cluster array\n",
            "[2, 0, 2, 1, 2, 2, 0, 1]\n"
          ]
        }
      ]
    },
    {
      "cell_type": "code",
      "source": [],
      "metadata": {
        "id": "OE6m5fd4hC4G"
      },
      "execution_count": 145,
      "outputs": []
    }
  ],
  "metadata": {
    "colab": {
      "provenance": []
    },
    "kernelspec": {
      "display_name": "Python 3",
      "name": "python3"
    },
    "language_info": {
      "name": "python"
    }
  },
  "nbformat": 4,
  "nbformat_minor": 0
}